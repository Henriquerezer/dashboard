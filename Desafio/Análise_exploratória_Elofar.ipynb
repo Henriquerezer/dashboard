{
 "cells": [
  {
   "cell_type": "markdown",
   "id": "e05ef3d5",
   "metadata": {},
   "source": [
    "# Análise Exploratória de dados Desafio ELOFAR"
   ]
  },
  {
   "cell_type": "markdown",
   "id": "f4b0a426",
   "metadata": {},
   "source": [
    "**Importando bibliotecas básicas para a ánalise**"
   ]
  },
  {
   "cell_type": "code",
   "execution_count": 1,
   "id": "523959bb",
   "metadata": {},
   "outputs": [],
   "source": [
    "import pandas as pd\n",
    "import datetime as dt"
   ]
  },
  {
   "cell_type": "markdown",
   "id": "5b245e8b",
   "metadata": {},
   "source": [
    "**Importando o arquivo .csv, utilizando o separador '|'**"
   ]
  },
  {
   "cell_type": "code",
   "execution_count": 2,
   "id": "f393a1ec",
   "metadata": {},
   "outputs": [],
   "source": [
    "data = pd.read_csv('desafio_BI.csv', sep='|')"
   ]
  },
  {
   "cell_type": "markdown",
   "id": "2422aaf3",
   "metadata": {},
   "source": [
    "**Primeira visualização dos dados**"
   ]
  },
  {
   "cell_type": "code",
   "execution_count": 3,
   "id": "b5b0485c",
   "metadata": {},
   "outputs": [
    {
     "data": {
      "text/html": [
       "<div>\n",
       "<style scoped>\n",
       "    .dataframe tbody tr th:only-of-type {\n",
       "        vertical-align: middle;\n",
       "    }\n",
       "\n",
       "    .dataframe tbody tr th {\n",
       "        vertical-align: top;\n",
       "    }\n",
       "\n",
       "    .dataframe thead th {\n",
       "        text-align: right;\n",
       "    }\n",
       "</style>\n",
       "<table border=\"1\" class=\"dataframe\">\n",
       "  <thead>\n",
       "    <tr style=\"text-align: right;\">\n",
       "      <th></th>\n",
       "      <th>Data</th>\n",
       "      <th>Marca</th>\n",
       "      <th>Fabricante</th>\n",
       "      <th>Referência_Elofar</th>\n",
       "      <th>UF</th>\n",
       "      <th>Unidades</th>\n",
       "      <th>R$</th>\n",
       "      <th>Tipo_canal</th>\n",
       "    </tr>\n",
       "  </thead>\n",
       "  <tbody>\n",
       "    <tr>\n",
       "      <th>0</th>\n",
       "      <td>2018-01-01</td>\n",
       "      <td>ALIVBABY</td>\n",
       "      <td>CAZI</td>\n",
       "      <td>BENZEVIT</td>\n",
       "      <td>BA</td>\n",
       "      <td>31,0</td>\n",
       "      <td>171,886</td>\n",
       "      <td>FARMACIAS</td>\n",
       "    </tr>\n",
       "    <tr>\n",
       "      <th>1</th>\n",
       "      <td>2018-01-01</td>\n",
       "      <td>ALIVBABY</td>\n",
       "      <td>CAZI</td>\n",
       "      <td>BENZEVIT</td>\n",
       "      <td>CE</td>\n",
       "      <td>529,0</td>\n",
       "      <td>3160,751</td>\n",
       "      <td>FARMACIAS</td>\n",
       "    </tr>\n",
       "    <tr>\n",
       "      <th>2</th>\n",
       "      <td>2018-01-01</td>\n",
       "      <td>ALIVBABY</td>\n",
       "      <td>CAZI</td>\n",
       "      <td>BENZEVIT</td>\n",
       "      <td>DF</td>\n",
       "      <td>7,0</td>\n",
       "      <td>38,813</td>\n",
       "      <td>FARMACIAS</td>\n",
       "    </tr>\n",
       "    <tr>\n",
       "      <th>3</th>\n",
       "      <td>2018-01-01</td>\n",
       "      <td>ALIVBABY</td>\n",
       "      <td>CAZI</td>\n",
       "      <td>BENZEVIT</td>\n",
       "      <td>GO</td>\n",
       "      <td>15,0</td>\n",
       "      <td>83,17</td>\n",
       "      <td>FARMACIAS</td>\n",
       "    </tr>\n",
       "    <tr>\n",
       "      <th>4</th>\n",
       "      <td>2018-01-01</td>\n",
       "      <td>ALIVBABY</td>\n",
       "      <td>CAZI</td>\n",
       "      <td>BENZEVIT</td>\n",
       "      <td>MA</td>\n",
       "      <td>295,0</td>\n",
       "      <td>1635,689</td>\n",
       "      <td>FARMACIAS</td>\n",
       "    </tr>\n",
       "  </tbody>\n",
       "</table>\n",
       "</div>"
      ],
      "text/plain": [
       "         Data     Marca Fabricante Referência_Elofar  UF Unidades        R$  \\\n",
       "0  2018-01-01  ALIVBABY       CAZI          BENZEVIT  BA     31,0   171,886   \n",
       "1  2018-01-01  ALIVBABY       CAZI          BENZEVIT  CE    529,0  3160,751   \n",
       "2  2018-01-01  ALIVBABY       CAZI          BENZEVIT  DF      7,0    38,813   \n",
       "3  2018-01-01  ALIVBABY       CAZI          BENZEVIT  GO     15,0     83,17   \n",
       "4  2018-01-01  ALIVBABY       CAZI          BENZEVIT  MA    295,0  1635,689   \n",
       "\n",
       "  Tipo_canal  \n",
       "0  FARMACIAS  \n",
       "1  FARMACIAS  \n",
       "2  FARMACIAS  \n",
       "3  FARMACIAS  \n",
       "4  FARMACIAS  "
      ]
     },
     "execution_count": 3,
     "metadata": {},
     "output_type": "execute_result"
    }
   ],
   "source": [
    "data.head()"
   ]
  },
  {
   "cell_type": "markdown",
   "id": "36cc9bcf",
   "metadata": {},
   "source": [
    "Analisando as 5 primeiras linhas e 5 últimas linhas da base de dados, junto com o formato.\n",
    "\n",
    "No primeiro momento, pode-se estimar que nossos dados começam em janeiro de 2018 e terminam em dezembro de 2020."
   ]
  },
  {
   "cell_type": "code",
   "execution_count": 4,
   "id": "94af81cf",
   "metadata": {},
   "outputs": [
    {
     "data": {
      "text/html": [
       "<div>\n",
       "<style scoped>\n",
       "    .dataframe tbody tr th:only-of-type {\n",
       "        vertical-align: middle;\n",
       "    }\n",
       "\n",
       "    .dataframe tbody tr th {\n",
       "        vertical-align: top;\n",
       "    }\n",
       "\n",
       "    .dataframe thead th {\n",
       "        text-align: right;\n",
       "    }\n",
       "</style>\n",
       "<table border=\"1\" class=\"dataframe\">\n",
       "  <thead>\n",
       "    <tr style=\"text-align: right;\">\n",
       "      <th></th>\n",
       "      <th>Data</th>\n",
       "      <th>Marca</th>\n",
       "      <th>Fabricante</th>\n",
       "      <th>Referência_Elofar</th>\n",
       "      <th>UF</th>\n",
       "      <th>Unidades</th>\n",
       "      <th>R$</th>\n",
       "      <th>Tipo_canal</th>\n",
       "    </tr>\n",
       "  </thead>\n",
       "  <tbody>\n",
       "    <tr>\n",
       "      <th>0</th>\n",
       "      <td>2018-01-01</td>\n",
       "      <td>ALIVBABY</td>\n",
       "      <td>CAZI</td>\n",
       "      <td>BENZEVIT</td>\n",
       "      <td>BA</td>\n",
       "      <td>31,0</td>\n",
       "      <td>171,886</td>\n",
       "      <td>FARMACIAS</td>\n",
       "    </tr>\n",
       "    <tr>\n",
       "      <th>1</th>\n",
       "      <td>2018-01-01</td>\n",
       "      <td>ALIVBABY</td>\n",
       "      <td>CAZI</td>\n",
       "      <td>BENZEVIT</td>\n",
       "      <td>CE</td>\n",
       "      <td>529,0</td>\n",
       "      <td>3160,751</td>\n",
       "      <td>FARMACIAS</td>\n",
       "    </tr>\n",
       "    <tr>\n",
       "      <th>2</th>\n",
       "      <td>2018-01-01</td>\n",
       "      <td>ALIVBABY</td>\n",
       "      <td>CAZI</td>\n",
       "      <td>BENZEVIT</td>\n",
       "      <td>DF</td>\n",
       "      <td>7,0</td>\n",
       "      <td>38,813</td>\n",
       "      <td>FARMACIAS</td>\n",
       "    </tr>\n",
       "    <tr>\n",
       "      <th>3</th>\n",
       "      <td>2018-01-01</td>\n",
       "      <td>ALIVBABY</td>\n",
       "      <td>CAZI</td>\n",
       "      <td>BENZEVIT</td>\n",
       "      <td>GO</td>\n",
       "      <td>15,0</td>\n",
       "      <td>83,17</td>\n",
       "      <td>FARMACIAS</td>\n",
       "    </tr>\n",
       "    <tr>\n",
       "      <th>4</th>\n",
       "      <td>2018-01-01</td>\n",
       "      <td>ALIVBABY</td>\n",
       "      <td>CAZI</td>\n",
       "      <td>BENZEVIT</td>\n",
       "      <td>MA</td>\n",
       "      <td>295,0</td>\n",
       "      <td>1635,689</td>\n",
       "      <td>FARMACIAS</td>\n",
       "    </tr>\n",
       "    <tr>\n",
       "      <th>...</th>\n",
       "      <td>...</td>\n",
       "      <td>...</td>\n",
       "      <td>...</td>\n",
       "      <td>...</td>\n",
       "      <td>...</td>\n",
       "      <td>...</td>\n",
       "      <td>...</td>\n",
       "      <td>...</td>\n",
       "    </tr>\n",
       "    <tr>\n",
       "      <th>253265</th>\n",
       "      <td>2020-12-01</td>\n",
       "      <td>VITPURUM</td>\n",
       "      <td>VITAMEDIC</td>\n",
       "      <td>VI-FERRIN</td>\n",
       "      <td>RO</td>\n",
       "      <td>58,0</td>\n",
       "      <td>393,82</td>\n",
       "      <td>FARMACIAS</td>\n",
       "    </tr>\n",
       "    <tr>\n",
       "      <th>253266</th>\n",
       "      <td>2020-12-01</td>\n",
       "      <td>VITPURUM</td>\n",
       "      <td>VITAMEDIC</td>\n",
       "      <td>VI-FERRIN</td>\n",
       "      <td>RS</td>\n",
       "      <td>22,0</td>\n",
       "      <td>149,38</td>\n",
       "      <td>FARMACIAS</td>\n",
       "    </tr>\n",
       "    <tr>\n",
       "      <th>253267</th>\n",
       "      <td>2020-12-01</td>\n",
       "      <td>VITPURUM</td>\n",
       "      <td>VITAMEDIC</td>\n",
       "      <td>VI-FERRIN</td>\n",
       "      <td>SC</td>\n",
       "      <td>1,0</td>\n",
       "      <td>6,79</td>\n",
       "      <td>FARMACIAS</td>\n",
       "    </tr>\n",
       "    <tr>\n",
       "      <th>253268</th>\n",
       "      <td>2020-12-01</td>\n",
       "      <td>VITPURUM</td>\n",
       "      <td>VITAMEDIC</td>\n",
       "      <td>VI-FERRIN</td>\n",
       "      <td>SP</td>\n",
       "      <td>109,0</td>\n",
       "      <td>740,11</td>\n",
       "      <td>FARMACIAS</td>\n",
       "    </tr>\n",
       "    <tr>\n",
       "      <th>253269</th>\n",
       "      <td>2020-12-01</td>\n",
       "      <td>VITPURUM</td>\n",
       "      <td>VITAMEDIC</td>\n",
       "      <td>VI-FERRIN</td>\n",
       "      <td>TO</td>\n",
       "      <td>15,0</td>\n",
       "      <td>101,85</td>\n",
       "      <td>FARMACIAS</td>\n",
       "    </tr>\n",
       "  </tbody>\n",
       "</table>\n",
       "<p>253270 rows × 8 columns</p>\n",
       "</div>"
      ],
      "text/plain": [
       "              Data     Marca Fabricante Referência_Elofar  UF Unidades  \\\n",
       "0       2018-01-01  ALIVBABY       CAZI          BENZEVIT  BA     31,0   \n",
       "1       2018-01-01  ALIVBABY       CAZI          BENZEVIT  CE    529,0   \n",
       "2       2018-01-01  ALIVBABY       CAZI          BENZEVIT  DF      7,0   \n",
       "3       2018-01-01  ALIVBABY       CAZI          BENZEVIT  GO     15,0   \n",
       "4       2018-01-01  ALIVBABY       CAZI          BENZEVIT  MA    295,0   \n",
       "...            ...       ...        ...               ...  ..      ...   \n",
       "253265  2020-12-01  VITPURUM  VITAMEDIC         VI-FERRIN  RO     58,0   \n",
       "253266  2020-12-01  VITPURUM  VITAMEDIC         VI-FERRIN  RS     22,0   \n",
       "253267  2020-12-01  VITPURUM  VITAMEDIC         VI-FERRIN  SC      1,0   \n",
       "253268  2020-12-01  VITPURUM  VITAMEDIC         VI-FERRIN  SP    109,0   \n",
       "253269  2020-12-01  VITPURUM  VITAMEDIC         VI-FERRIN  TO     15,0   \n",
       "\n",
       "              R$ Tipo_canal  \n",
       "0        171,886  FARMACIAS  \n",
       "1       3160,751  FARMACIAS  \n",
       "2         38,813  FARMACIAS  \n",
       "3          83,17  FARMACIAS  \n",
       "4       1635,689  FARMACIAS  \n",
       "...          ...        ...  \n",
       "253265    393,82  FARMACIAS  \n",
       "253266    149,38  FARMACIAS  \n",
       "253267      6,79  FARMACIAS  \n",
       "253268    740,11  FARMACIAS  \n",
       "253269    101,85  FARMACIAS  \n",
       "\n",
       "[253270 rows x 8 columns]"
      ]
     },
     "metadata": {},
     "output_type": "display_data"
    }
   ],
   "source": [
    "display(data) "
   ]
  },
  {
   "cell_type": "markdown",
   "id": "65936cf4",
   "metadata": {},
   "source": [
    "O shape do nossos dados é 253.270 linhas e 8 colunas"
   ]
  },
  {
   "cell_type": "markdown",
   "id": "db853f85",
   "metadata": {},
   "source": [
    "**Descobrindo o período da análise**"
   ]
  },
  {
   "cell_type": "code",
   "execution_count": 5,
   "id": "426295d0",
   "metadata": {},
   "outputs": [
    {
     "name": "stdout",
     "output_type": "stream",
     "text": [
      "Nossa primeira data =  2018-01-01\n"
     ]
    }
   ],
   "source": [
    "inicio = pd.to_datetime(data['Data']).dt.date.min()\n",
    "print('Nossa primeira data = ' ,inicio)"
   ]
  },
  {
   "cell_type": "code",
   "execution_count": 6,
   "id": "2762226c",
   "metadata": {},
   "outputs": [
    {
     "name": "stdout",
     "output_type": "stream",
     "text": [
      "Nossa última data =  2020-12-01\n"
     ]
    }
   ],
   "source": [
    "fim = pd.to_datetime(data['Data']).dt.date.max()\n",
    "print('Nossa última data = ', fim)"
   ]
  },
  {
   "cell_type": "markdown",
   "id": "c0206d5f",
   "metadata": {},
   "source": [
    "**Verificando valores nulos e tipo de dados**\n",
    "\n",
    "* Não possuímos dados nulos nesta base de dados\n",
    "* Todos os valores são do tipo object. Na fase de tratamento dos dados, será necessário uma atenção em algumas colunas \n",
    "* Como por exemplo a coluna 'Unidades' e 'Data'"
   ]
  },
  {
   "cell_type": "code",
   "execution_count": 7,
   "id": "9a502e35",
   "metadata": {},
   "outputs": [
    {
     "name": "stdout",
     "output_type": "stream",
     "text": [
      "<class 'pandas.core.frame.DataFrame'>\n",
      "RangeIndex: 253270 entries, 0 to 253269\n",
      "Data columns (total 8 columns):\n",
      " #   Column             Non-Null Count   Dtype \n",
      "---  ------             --------------   ----- \n",
      " 0   Data               253270 non-null  object\n",
      " 1   Marca              253270 non-null  object\n",
      " 2   Fabricante         253270 non-null  object\n",
      " 3   Referência_Elofar  253270 non-null  object\n",
      " 4   UF                 253270 non-null  object\n",
      " 5   Unidades           253270 non-null  object\n",
      " 6   R$                 253270 non-null  object\n",
      " 7   Tipo_canal         253270 non-null  object\n",
      "dtypes: object(8)\n",
      "memory usage: 15.5+ MB\n"
     ]
    }
   ],
   "source": [
    "data.info()"
   ]
  },
  {
   "cell_type": "markdown",
   "id": "8cd211fb",
   "metadata": {},
   "source": [
    "## Analisando as informações estatísticas"
   ]
  },
  {
   "cell_type": "code",
   "execution_count": 8,
   "id": "8c94627b",
   "metadata": {},
   "outputs": [
    {
     "data": {
      "text/html": [
       "<div>\n",
       "<style scoped>\n",
       "    .dataframe tbody tr th:only-of-type {\n",
       "        vertical-align: middle;\n",
       "    }\n",
       "\n",
       "    .dataframe tbody tr th {\n",
       "        vertical-align: top;\n",
       "    }\n",
       "\n",
       "    .dataframe thead th {\n",
       "        text-align: right;\n",
       "    }\n",
       "</style>\n",
       "<table border=\"1\" class=\"dataframe\">\n",
       "  <thead>\n",
       "    <tr style=\"text-align: right;\">\n",
       "      <th></th>\n",
       "      <th>Data</th>\n",
       "      <th>Marca</th>\n",
       "      <th>Fabricante</th>\n",
       "      <th>Referência_Elofar</th>\n",
       "      <th>UF</th>\n",
       "      <th>Unidades</th>\n",
       "      <th>R$</th>\n",
       "      <th>Tipo_canal</th>\n",
       "    </tr>\n",
       "  </thead>\n",
       "  <tbody>\n",
       "    <tr>\n",
       "      <th>count</th>\n",
       "      <td>253270</td>\n",
       "      <td>253270</td>\n",
       "      <td>253270</td>\n",
       "      <td>253270</td>\n",
       "      <td>253270</td>\n",
       "      <td>253270</td>\n",
       "      <td>253270</td>\n",
       "      <td>253270</td>\n",
       "    </tr>\n",
       "    <tr>\n",
       "      <th>unique</th>\n",
       "      <td>36</td>\n",
       "      <td>316</td>\n",
       "      <td>104</td>\n",
       "      <td>10</td>\n",
       "      <td>27</td>\n",
       "      <td>21277</td>\n",
       "      <td>217575</td>\n",
       "      <td>3</td>\n",
       "    </tr>\n",
       "    <tr>\n",
       "      <th>top</th>\n",
       "      <td>2020-12-01</td>\n",
       "      <td>COMBIRON FOLICO</td>\n",
       "      <td>EMS</td>\n",
       "      <td>CIPROFAR</td>\n",
       "      <td>SP</td>\n",
       "      <td>1,0</td>\n",
       "      <td>63,666</td>\n",
       "      <td>FARMACIAS</td>\n",
       "    </tr>\n",
       "    <tr>\n",
       "      <th>freq</th>\n",
       "      <td>7650</td>\n",
       "      <td>2383</td>\n",
       "      <td>20045</td>\n",
       "      <td>44287</td>\n",
       "      <td>14428</td>\n",
       "      <td>12929</td>\n",
       "      <td>72</td>\n",
       "      <td>159712</td>\n",
       "    </tr>\n",
       "  </tbody>\n",
       "</table>\n",
       "</div>"
      ],
      "text/plain": [
       "              Data            Marca Fabricante Referência_Elofar      UF  \\\n",
       "count       253270           253270     253270            253270  253270   \n",
       "unique          36              316        104                10      27   \n",
       "top     2020-12-01  COMBIRON FOLICO        EMS          CIPROFAR      SP   \n",
       "freq          7650             2383      20045             44287   14428   \n",
       "\n",
       "       Unidades      R$ Tipo_canal  \n",
       "count    253270  253270     253270  \n",
       "unique    21277  217575          3  \n",
       "top         1,0  63,666  FARMACIAS  \n",
       "freq      12929      72     159712  "
      ]
     },
     "execution_count": 8,
     "metadata": {},
     "output_type": "execute_result"
    }
   ],
   "source": [
    "data.describe()"
   ]
  },
  {
   "cell_type": "markdown",
   "id": "52893036",
   "metadata": {},
   "source": [
    "**Podemos ver que temos 316 valores únicos para a variável 'Marca', 104 para 'Fabricante', apenas 10 para 'Referência_Elofar',27 para 'UF' e 3 para 'Tipo_canal'.**\n",
    "\n",
    "Também podemos ver qual o valor que mais se repete em cada variável e sua frequência.\n",
    "\n",
    "* **Data** -> Top (2020-12-01) = Possível indicação de crescimento da empresa ao decorrer dos anos;\n",
    "\n",
    "* **Marca** -> Top (COMBIRON FOLICO) = Combiron é indicado no tratamento das anemias carenciais como nas correções das anemias provocadas por distúrbios nutricionais ou medicamentosos;\n",
    "\n",
    "* **Fabricante** -> Top (EMS)  = Sua maior frequência pode-se ocorrer pelo fato de umas das suas principais habilidades ser a produção de medicamentos genéricos ( Medicamentos de menor custo ao consumidor);\n",
    "\n",
    "* **Referência_Elofar** -> Top (CIPROFAR) = Ciprofar é um medicamento indicado no tratamento de Infecções causadas por microrganismos;\n",
    "\n",
    "* **UF** -> Top (SP) -> indica que São Paulo é o estado com maior volume de produtos;\n",
    "\n",
    "* **Unidades** -> Top (Unidades) = 1 única unidade, o que pode ser algum erro na hora de preencher os dados\n",
    "\n",
    "* **Tipo_canal** -> Top (Farmacias) = O meio em que os produtos possuem maior consumo é por farmácias."
   ]
  },
  {
   "cell_type": "markdown",
   "id": "fd098e6e",
   "metadata": {},
   "source": [
    "## Entendo inicialmente nosso dados categóricos "
   ]
  },
  {
   "cell_type": "markdown",
   "id": "a5e86f1b",
   "metadata": {},
   "source": [
    "* Combiron Folico Realmente aparece com mais frequência, mas sua distância dos outros valores é pequena como podemos ver.\n",
    "* O que mostra que não há uma discrepância de \"vendas\" entre os medicamentos fornecidos.\n",
    "* Entre os top 20 há uma diferença de 373 aparições."
   ]
  },
  {
   "cell_type": "code",
   "execution_count": 9,
   "id": "3203d004",
   "metadata": {},
   "outputs": [
    {
     "data": {
      "text/plain": [
       "COMBIRON FOLICO         2383\n",
       "NEUTROFER               2356\n",
       "MASFEROL                2335\n",
       "CIPROFLOXACINO P.D      2328\n",
       "BACTRIM F               2316\n",
       "NORIPURUM               2293\n",
       "BACTRIM                 2291\n",
       "NISTA+ZINCO EMS         2222\n",
       "SULFAME+TRIMETO. P.D    2212\n",
       "COMBIRON                2155\n",
       "NISTA+ZINCO N.Q         2155\n",
       "OS-CAL D                2146\n",
       "FERRONIL                2126\n",
       "OTOSYLASE               2113\n",
       "OTOSPORIN               2108\n",
       "OTOCIRIAX               2086\n",
       "NIMELIT                 2062\n",
       "OS-CAL                  2059\n",
       "SULFAME+TRIMETO. TTF    2037\n",
       "CIMELIDE                2010\n",
       "Name: Marca, dtype: int64"
      ]
     },
     "execution_count": 9,
     "metadata": {},
     "output_type": "execute_result"
    }
   ],
   "source": [
    "data['Marca'].value_counts()[:20]"
   ]
  },
  {
   "cell_type": "markdown",
   "id": "f45b5634",
   "metadata": {},
   "source": [
    "**Mas isso não significa que esses medicamentos possuem um grande percentual em relação aos outros. Como podemos ver abaixo.**"
   ]
  },
  {
   "cell_type": "code",
   "execution_count": 10,
   "id": "a2edbb10",
   "metadata": {},
   "outputs": [
    {
     "name": "stdout",
     "output_type": "stream",
     "text": [
      "Porcentual de aparições na base de dados\n"
     ]
    },
    {
     "data": {
      "text/plain": [
       "COMBIRON FOLICO         0.009409\n",
       "NEUTROFER               0.009302\n",
       "MASFEROL                0.009219\n",
       "CIPROFLOXACINO P.D      0.009192\n",
       "BACTRIM F               0.009144\n",
       "NORIPURUM               0.009054\n",
       "BACTRIM                 0.009046\n",
       "NISTA+ZINCO EMS         0.008773\n",
       "SULFAME+TRIMETO. P.D    0.008734\n",
       "COMBIRON                0.008509\n",
       "NISTA+ZINCO N.Q         0.008509\n",
       "OS-CAL D                0.008473\n",
       "FERRONIL                0.008394\n",
       "OTOSYLASE               0.008343\n",
       "OTOSPORIN               0.008323\n",
       "OTOCIRIAX               0.008236\n",
       "NIMELIT                 0.008142\n",
       "OS-CAL                  0.008130\n",
       "SULFAME+TRIMETO. TTF    0.008043\n",
       "CIMELIDE                0.007936\n",
       "Name: Marca, dtype: float64"
      ]
     },
     "execution_count": 10,
     "metadata": {},
     "output_type": "execute_result"
    }
   ],
   "source": [
    "print('Porcentual de aparições na base de dados')\n",
    "data['Marca'].value_counts()[:20] / 253270"
   ]
  },
  {
   "cell_type": "markdown",
   "id": "94722f31",
   "metadata": {},
   "source": [
    "**ESM possui 8 mil aparições a mais em nossa base de dados em comparação com o segundo (FQM Grupo)**"
   ]
  },
  {
   "cell_type": "code",
   "execution_count": 11,
   "id": "8d269e05",
   "metadata": {},
   "outputs": [
    {
     "data": {
      "text/plain": [
       "EMS            20045\n",
       "FQM GRUPO      12227\n",
       "EUROFARMA      12096\n",
       "GLOBO          11520\n",
       "GEOLAB         11392\n",
       "               ...  \n",
       "ATIVUS VITA        2\n",
       "BIOFARMA           2\n",
       "STIEFEL            1\n",
       "TKS                1\n",
       "LASA               1\n",
       "Name: Fabricante, Length: 104, dtype: int64"
      ]
     },
     "execution_count": 11,
     "metadata": {},
     "output_type": "execute_result"
    }
   ],
   "source": [
    "data['Fabricante'].value_counts()"
   ]
  },
  {
   "cell_type": "markdown",
   "id": "8dce7d5c",
   "metadata": {},
   "source": [
    "**Confirma que o medicamento Ciprofar é o que mais aparece em nossos dados, ao mesmo tempo o medicamento VI-Ferrin aparece em segundo.**"
   ]
  },
  {
   "cell_type": "code",
   "execution_count": 12,
   "id": "34782b8c",
   "metadata": {},
   "outputs": [
    {
     "data": {
      "image/png": "[encoded data removed]",
      "text/plain": [
       "<Figure size 1080x720 with 1 Axes>"
      ]
     },
     "metadata": {
      "needs_background": "light"
     },
     "output_type": "display_data"
    }
   ],
   "source": [
    "data['Referência_Elofar'].value_counts().plot(kind='bar', figsize=(15,10));"
   ]
  },
  {
   "cell_type": "code",
   "execution_count": 13,
   "id": "96cbf0b4",
   "metadata": {},
   "outputs": [
    {
     "data": {
      "image/png": "[encoded data removed]",
      "text/plain": [
       "<Figure size 1440x720 with 1 Axes>"
      ]
     },
     "metadata": {
      "needs_background": "light"
     },
     "output_type": "display_data"
    }
   ],
   "source": [
    "data['UF'].value_counts().plot(kind='bar', figsize=(20,10));"
   ]
  },
  {
   "cell_type": "code",
   "execution_count": 14,
   "id": "982574ec",
   "metadata": {},
   "outputs": [
    {
     "data": {
      "text/plain": [
       "FARMACIAS     0.630600\n",
       "OUTROS        0.221894\n",
       "HOSPITALAR    0.147507\n",
       "Name: Tipo_canal, dtype: float64"
      ]
     },
     "execution_count": 14,
     "metadata": {},
     "output_type": "execute_result"
    }
   ],
   "source": [
    "data['Tipo_canal'].value_counts()/ 253270 \n"
   ]
  },
  {
   "cell_type": "markdown",
   "id": "21bbde59",
   "metadata": {},
   "source": [
    "* 63% dos dados são referênte a Farmácias\n",
    "* 22% dos dados são referênte a Outros\n",
    "* 14,7% dos dados são referêntes a Hospitalar"
   ]
  },
  {
   "cell_type": "code",
   "execution_count": 15,
   "id": "6ae69335",
   "metadata": {},
   "outputs": [
    {
     "data": {
      "image/png": "[encoded data removed]",
      "text/plain": [
       "<Figure size 576x432 with 1 Axes>"
      ]
     },
     "metadata": {},
     "output_type": "display_data"
    }
   ],
   "source": [
    "data['Tipo_canal'].value_counts().plot(kind='pie', figsize=(8,6));"
   ]
  }
 ],
 "metadata": {
  "kernelspec": {
   "display_name": "Python 3 (ipykernel)",
   "language": "python",
   "name": "python3"
  },
  "language_info": {
   "codemirror_mode": {
    "name": "ipython",
    "version": 3
   },
   "file_extension": ".py",
   "mimetype": "text/x-python",
   "name": "python",
   "nbconvert_exporter": "python",
   "pygments_lexer": "ipython3",
   "version": "3.9.7"
  }
 },
 "nbformat": 4,
 "nbformat_minor": 5
}
